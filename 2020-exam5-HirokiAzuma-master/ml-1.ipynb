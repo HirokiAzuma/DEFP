{
 "cells": [
  {
   "cell_type": "markdown",
   "metadata": {},
   "source": [
    "# 技術計算パッケージ scipy を使ってみよう\n",
    "\n",
    "scipy https://www.scipy.org/ は科学技術用の計算パッケージです．\n",
    "numpy をベースにして，様々な科学技術計算をサポートしています．\n",
    "以下の行列をQR分解して下さい。\n",
    "\n",
    "QR分解は，行列$A$ を分解するための手法で，直交行列($Q$)と上三角行列($R$)に分解します．\n",
    "すなわち $A = QR$ の形に分解します．\n",
    "\n",
    "実際にどこで使われているかというと最小二乗法の安定した数値解法などに用いられます．\n",
    "→ 参考URL https://ja.wikipedia.org/wiki/%E6%9C%80%E5%B0%8F%E4%BA%8C%E4%B9%97%E6%B3%95"
   ]
  },
  {
   "cell_type": "markdown",
   "metadata": {},
   "source": [
    "行列 $A$ を以下のように定義して，QR 分解を行ってみてください．\n",
    "\\begin{pmatrix}\n",
    "2 & -2 & -1 \\\\\n",
    "1 & -1 & 2 \\\\\n",
    "-4 & -1 & 2 \\\\\n",
    "2 & 3 & -1 \\\\ \n",
    "\\end{pmatrix}"
   ]
  },
  {
   "cell_type": "code",
   "execution_count": 1,
   "metadata": {},
   "outputs": [],
   "source": [
    "import numpy as np\n",
    "from scipy import linalg"
   ]
  },
  {
   "cell_type": "code",
   "execution_count": 2,
   "metadata": {},
   "outputs": [
    {
     "name": "stdout",
     "output_type": "stream",
     "text": [
      "[[ 2 -2 -1]\n",
      " [ 1 -1  2]\n",
      " [-4 -1  2]\n",
      " [ 2  3 -1]]\n"
     ]
    }
   ],
   "source": [
    "A = np.array([[2,-2,-1], [1,-1,2], [-4,-1,2], [2,3,-1]])  # □にPythonのリストを入れ指定の行列を作ってください。\n",
    "print(A)"
   ]
  },
  {
   "cell_type": "code",
   "execution_count": 9,
   "metadata": {},
   "outputs": [],
   "source": [
    "Q, R = linalg.qr(A)  # □に入る linalg の関数を入れてください"
   ]
  },
  {
   "cell_type": "code",
   "execution_count": 10,
   "metadata": {},
   "outputs": [
    {
     "name": "stdout",
     "output_type": "stream",
     "text": [
      "[[-4.00000000e-01 -6.41426981e-01 -3.08606700e-01  5.77350269e-01]\n",
      " [-2.00000000e-01 -3.20713490e-01  9.25820100e-01  6.93889390e-17]\n",
      " [ 8.00000000e-01 -5.34522484e-02  1.54303350e-01  5.77350269e-01]\n",
      " [-4.00000000e-01  6.94879229e-01  1.54303350e-01  5.77350269e-01]]\n"
     ]
    }
   ],
   "source": [
    "print(Q)"
   ]
  },
  {
   "cell_type": "code",
   "execution_count": 11,
   "metadata": {
    "scrolled": true
   },
   "outputs": [
    {
     "name": "stdout",
     "output_type": "stream",
     "text": [
      "[[-5.         -1.          2.        ]\n",
      " [ 0.          3.74165739 -0.80178373]\n",
      " [ 0.          0.          2.31455025]\n",
      " [ 0.          0.          0.        ]]\n"
     ]
    }
   ],
   "source": [
    "print(R)"
   ]
  },
  {
   "cell_type": "markdown",
   "metadata": {},
   "source": [
    "求めた、Q及びRの行数及び列数を確認して下しい。"
   ]
  },
  {
   "cell_type": "code",
   "execution_count": 12,
   "metadata": {
    "scrolled": true
   },
   "outputs": [
    {
     "name": "stdout",
     "output_type": "stream",
     "text": [
      "(4, 4)\n",
      "(4, 3)\n"
     ]
    }
   ],
   "source": [
    "print(Q.shape)\n",
    "assert Q.shape == (4, 4)\n",
    "print(R.shape)\n",
    "assert R.shape == (4, 3)"
   ]
  },
  {
   "cell_type": "markdown",
   "metadata": {},
   "source": [
    "求めた、Q及びRが、A = QR が正しいことを確認して下しい。"
   ]
  },
  {
   "cell_type": "code",
   "execution_count": 13,
   "metadata": {},
   "outputs": [
    {
     "data": {
      "text/plain": [
       "True"
      ]
     },
     "execution_count": 13,
     "metadata": {},
     "output_type": "execute_result"
    }
   ],
   "source": [
    "np.allclose(A, Q @ R)"
   ]
  },
  {
   "cell_type": "code",
   "execution_count": 14,
   "metadata": {},
   "outputs": [],
   "source": [
    "assert np.allclose(A, Q @ R)"
   ]
  },
  {
   "cell_type": "code",
   "execution_count": null,
   "metadata": {},
   "outputs": [],
   "source": []
  }
 ],
 "metadata": {
  "kernelspec": {
   "display_name": "Python 3",
   "language": "python",
   "name": "python3"
  },
  "language_info": {
   "codemirror_mode": {
    "name": "ipython",
    "version": 3
   },
   "file_extension": ".py",
   "mimetype": "text/x-python",
   "name": "python",
   "nbconvert_exporter": "python",
   "pygments_lexer": "ipython3",
   "version": "3.6.4"
  }
 },
 "nbformat": 4,
 "nbformat_minor": 2
}
